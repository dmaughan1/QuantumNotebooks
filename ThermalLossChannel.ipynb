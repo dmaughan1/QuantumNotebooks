{
 "cells": [
  {
   "cell_type": "code",
   "execution_count": 1,
   "id": "c766f364",
   "metadata": {},
   "outputs": [],
   "source": [
    "import numpy as np\n",
    "import strawberryfields as sf\n",
    "import strawberryfields.ops as ops"
   ]
  },
  {
   "cell_type": "code",
   "execution_count": 2,
   "id": "a1e23091",
   "metadata": {},
   "outputs": [],
   "source": [
    "nbar = 6.22 # mean photon number\n",
    "v = 2*nbar+1 # v=2, .5 mean photon\n",
    "#ν := 2n̄ + 1\n",
    "tmsv_cov = np.array([\n",
    "    [v,np.sqrt(v**2-1),0,0],\n",
    "    [np.sqrt(v**2-1),v,0,0],\n",
    "    [0,0,v,-np.sqrt(v**2-1)],\n",
    "    [0,0,-np.sqrt(v**2-1),v],\n",
    "])"
   ]
  },
  {
   "cell_type": "code",
   "execution_count": 3,
   "id": "de49127a",
   "metadata": {},
   "outputs": [],
   "source": [
    "# https://strawberryfields.readthedocs.io/en/stable/code/api/strawberryfields.ops.BSgate.html\n",
    "transmitivity = .52\n",
    "theta = np.arccos(np.sqrt(transmitivity)) # transmission amplitude\n",
    "phi = 0#np.pi # phase angle; np.pi/2 is the symmetric beam splitter"
   ]
  },
  {
   "cell_type": "code",
   "execution_count": 4,
   "id": "069ede33",
   "metadata": {},
   "outputs": [
    {
     "name": "stdout",
     "output_type": "stream",
     "text": [
      "7.315227748347578 8.895040938295388 1.1212036097319187\n"
     ]
    }
   ],
   "source": [
    "# params for state preparations\n",
    "\n",
    "t_nbar = np.random.uniform(0,12)\n",
    "d_r = np.random.uniform(-10,10)\n",
    "d_phi = np.random.uniform(-np.pi,np.pi)\n",
    "\n",
    "print(t_nbar,d_r,d_phi)"
   ]
  },
  {
   "cell_type": "code",
   "execution_count": 5,
   "id": "ba205ad3",
   "metadata": {},
   "outputs": [],
   "source": [
    "exp = sf.Program(3) # 1 for the mode goinging through the channel, 2 for the explicit environment\n",
    "\n",
    "with exp.context as q:\n",
    "    # q[2] is the mode going through our custom thermal loss channel\n",
    "    \n",
    "    # Prepare q[2] in some state\n",
    "    ops.Thermal(t_nbar) | q[2]\n",
    "    ops.Dgate(d_r,d_phi) | q[2]\n",
    "    \n",
    "    # Prepare the environment\n",
    "    ops.Gaussian(tmsv_cov,np.zeros(4)) | [q[0],q[1]] # prepares a gaussian state\n",
    "    ops.BSgate(theta, phi) | (q[1], q[2]) # applies BS\n",
    "    \n",
    "    # We will compare our results against the built in Thermal loss channel\n",
    "    #ops.ThermalLossChannel(transmitivity,nbar) | q[2]"
   ]
  },
  {
   "cell_type": "code",
   "execution_count": 6,
   "id": "7c434479",
   "metadata": {},
   "outputs": [],
   "source": [
    "eng = sf.Engine(backend=\"gaussian\")\n",
    "#eng = sf.Engine(backend=\"tf\", backend_options={\"cutoff_dim\": 10})\n",
    "\n",
    "custom_results = eng.run(exp)"
   ]
  },
  {
   "cell_type": "code",
   "execution_count": 7,
   "id": "70836806",
   "metadata": {},
   "outputs": [],
   "source": [
    "exp = sf.Program(1) # we just need one mode since we don't have an explicit environment\n",
    "\n",
    "with exp.context as q:\n",
    "    # q[0] is the mode going through the builtin  thermal loss channel\n",
    "    \n",
    "    # Prepare q[2] in some state\n",
    "    ops.Thermal(t_nbar)| q[0]\n",
    "    ops.Dgate(d_r,d_phi) | q[0]\n",
    "\n",
    "    # We will compare our results against the built in Thermal loss channel\n",
    "    ops.ThermalLossChannel(transmitivity,nbar) | q[0]"
   ]
  },
  {
   "cell_type": "code",
   "execution_count": 8,
   "id": "c7daf450",
   "metadata": {},
   "outputs": [],
   "source": [
    "eng = sf.Engine(backend=\"gaussian\")\n",
    "#eng = sf.Engine(backend=\"tf\", backend_options={\"cutoff_dim\": 10})\n",
    "\n",
    "builtin_results = eng.run(exp)"
   ]
  },
  {
   "cell_type": "code",
   "execution_count": 9,
   "id": "41ac8518",
   "metadata": {},
   "outputs": [],
   "source": [
    "def extract_state_cov(cov,state_num):\n",
    "    num_modes = len(cov)//2\n",
    "    new_cov = np.zeros((2,2))\n",
    "    new_cov[0,0] = cov[state_num,state_num]\n",
    "    new_cov[1,1] = cov[state_num+num_modes,state_num+num_modes]\n",
    "    new_cov[1,0] = cov[state_num+num_modes,state_num]\n",
    "    new_cov[0,1] = cov[state_num,state_num+num_modes]\n",
    "    return new_cov\n",
    "\n",
    "def extract_state_means(means,state_num):\n",
    "    num_modes = len(means)//2\n",
    "    new_means = np.zeros(2)\n",
    "    new_means[0] = means[state_num]\n",
    "    new_means[1] = means[state_num+num_modes]\n",
    "    return new_means\n"
   ]
  },
  {
   "cell_type": "code",
   "execution_count": 10,
   "id": "d8dfbae9",
   "metadata": {},
   "outputs": [
    {
     "name": "stdout",
     "output_type": "stream",
     "text": [
      "[[1.45790369e+01 3.30009844e-16]\n",
      " [3.30009844e-16 1.45790369e+01]]\n",
      "[ 5.57529822 11.55375682]\n"
     ]
    }
   ],
   "source": [
    "print(extract_state_cov(custom_results.state.cov(),2))\n",
    "print(extract_state_means(custom_results.state.means(),2))"
   ]
  },
  {
   "cell_type": "code",
   "execution_count": 11,
   "id": "252f31b2",
   "metadata": {},
   "outputs": [
    {
     "name": "stdout",
     "output_type": "stream",
     "text": [
      "[[14.57903686  0.        ]\n",
      " [ 0.         14.57903686]]\n",
      "[ 5.57529822 11.55375682]\n"
     ]
    }
   ],
   "source": [
    "print(builtin_results.state.cov())\n",
    "print(builtin_results.state.means())"
   ]
  }
 ],
 "metadata": {
  "kernelspec": {
   "display_name": "Python 3",
   "language": "python",
   "name": "python3"
  },
  "language_info": {
   "codemirror_mode": {
    "name": "ipython",
    "version": 3
   },
   "file_extension": ".py",
   "mimetype": "text/x-python",
   "name": "python",
   "nbconvert_exporter": "python",
   "pygments_lexer": "ipython3",
   "version": "3.8.5"
  }
 },
 "nbformat": 4,
 "nbformat_minor": 5
}
