{
 "cells": [
  {
   "cell_type": "markdown",
   "metadata": {},
   "source": [
    "Here we will demonstrate the utility of quantum information through Superdense Coding. Superdense coding is a quantum communication protocol to transmit two classical bits of information from a sender (who will be named Alice) to a receiver (who will be named Bob). The novelty of superdense coding is that Alice will only need to send a single qubit!! The catch is that Alice and Bob will need to pre-share an entangled state. We will create a third party, named Charlie, who is responsible for the creation and sharing of the entangled state.\n",
    "\n",
    "I am attepting to follow the conventions of Nielsen and Chuang on page 97. You can find free info at https://en.wikipedia.org/wiki/Superdense_coding\n",
    "\n",
    "I will assume that the reader is familiar with the Pauli matrices, the Hadamard gate, and the CNOT gate."
   ]
  },
  {
   "cell_type": "code",
   "execution_count": 1,
   "metadata": {},
   "outputs": [],
   "source": [
    "import numpy as np\n",
    "\n",
    "# First we should define the gates we will need as numpy arrays. I have chosen the computational basis.\n",
    "\n",
    "# Single qubit gates\n",
    "X = np.array([[0,1],[1,0]])\n",
    "Y = np.array([[0,-1j],[1j,0]])\n",
    "Z = np.array([[1,0],[0,-1]])\n",
    "I = np.eye(2)\n",
    "H = np.array([[1,1],[1,-1]])/np.sqrt(2)\n",
    "\n",
    "# Double qubit gates\n",
    "CNOT = np.array([\n",
    "    [1,0,0,0],\n",
    "    [0,0,0,1],\n",
    "    [0,0,1,0],\n",
    "    [0,1,0,0]]) # Note that this is the matrix representation when the right most qubit is the control."
   ]
  },
  {
   "cell_type": "markdown",
   "metadata": {},
   "source": [
    "$$\\newcommand{\\ket}[1]{\\left|{#1}\\right\\rangle}$$\n",
    "$$\\newcommand{\\bra}[1]{\\left\\langle{#1}\\right|}$$\n",
    "\n",
    "We will use the common convention that \n",
    "$\\ket{0} = \\begin{bmatrix}\n",
    "1 \\\\\n",
    "0 \\end{bmatrix}$\n",
    "and\n",
    "$\\ket{1} = \\begin{bmatrix}\n",
    "0 \\\\\n",
    "1 \\end{bmatrix}$"
   ]
  },
  {
   "cell_type": "code",
   "execution_count": 2,
   "metadata": {},
   "outputs": [],
   "source": [
    "# Define our single qubit states\n",
    "bra0 = np.array([1,0])\n",
    "bra1 = np.array([0,1])"
   ]
  },
  {
   "cell_type": "markdown",
   "metadata": {},
   "source": [
    "Now we turn it over to Charlie to prepare our entangled state."
   ]
  },
  {
   "cell_type": "code",
   "execution_count": 3,
   "metadata": {},
   "outputs": [],
   "source": [
    "# Charlie starts with both qubits in the state |00>. \n",
    "# The left qubit is intended for Bob and the right qubit is intended for Alice, i.e. |Bob,Alice>\n",
    "psi = np.kron(bra0,bra0)\n",
    "\n",
    "# Now Charlie can create a Bell State, which is an entangled state\n",
    "# Charlie applies a Hadamard gate to the rightmost qubit (control)\n",
    "psi = np.kron(I,H)@psi\n",
    "\n",
    "# To finish entangling the states, Charlie applies a CNOT gate\n",
    "psi = CNOT @ psi\n",
    "\n",
    "# Now Charlie gives the left qubit to Bob and the right qubit to Alice\n",
    "\n"
   ]
  },
  {
   "cell_type": "code",
   "execution_count": 4,
   "metadata": {},
   "outputs": [],
   "source": [
    "# Alice encodes her message onto the qubit\n",
    "\n",
    "intended_msg = '11'\n",
    "\n",
    "def encode_msg_on_qubit(intended_msg,psi):\n",
    "    # intended_msg should be '00','01','10','11'\n",
    "    # Note that we have an identity matrix acting on Bob's qubit\n",
    "    # so Alice doesn't need to be able to be in possession of it.\n",
    "    # Alice only applies the gate to her qubit (the right one)\n",
    "    if intended_msg == '00':\n",
    "        np.kron(I,I) @ psi # Which is to say, do nothing\n",
    "    elif intended_msg == '01':\n",
    "        psi = np.kron(I,Z) @ psi\n",
    "    elif intended_msg == '10':\n",
    "        psi = np.kron(I,X) @ psi\n",
    "    elif intended_msg == '11':\n",
    "        psi = np.kron(I,1j*Y) @ psi\n",
    "    else:\n",
    "        print('Not a sendable message, sending 00')\n",
    "    return psi\n",
    "\n",
    "psi = encode_msg_on_qubit(intended_msg,psi)\n",
    "\n",
    "# Then Alice sends her single qubit to Bob"
   ]
  },
  {
   "cell_type": "code",
   "execution_count": 7,
   "metadata": {},
   "outputs": [
    {
     "name": "stdout",
     "output_type": "stream",
     "text": [
      "Alice encoded and sent:    11\n",
      "Bob received and decoded:  11\n",
      "The messages are equal?    True\n"
     ]
    }
   ],
   "source": [
    "# Bob decodes the message\n",
    "def decode_msg(psi):\n",
    "    psi = CNOT @ psi\n",
    "    psi = np.kron(I,H) @ psi\n",
    "    measured_psi = psi.conj().T*psi\n",
    "    # Since that will always be real valued we can do\n",
    "    measured_psi = abs(measured_psi)\n",
    "    msg = int(np.argmax(measured_psi))\n",
    "    return format(msg,'02b')\n",
    "\n",
    "print('Alice encoded and sent:   ',intended_msg)\n",
    "print('Bob received and decoded: ',decode_msg(psi))\n",
    "print('The messages are equal?   ', intended_msg == str(decode_msg(psi)))"
   ]
  },
  {
   "cell_type": "code",
   "execution_count": null,
   "metadata": {},
   "outputs": [],
   "source": []
  },
  {
   "cell_type": "code",
   "execution_count": null,
   "metadata": {},
   "outputs": [],
   "source": []
  },
  {
   "cell_type": "markdown",
   "metadata": {},
   "source": []
  },
  {
   "cell_type": "code",
   "execution_count": null,
   "metadata": {},
   "outputs": [],
   "source": []
  }
 ],
 "metadata": {
  "kernelspec": {
   "display_name": "Python 3",
   "language": "python",
   "name": "python3"
  },
  "language_info": {
   "codemirror_mode": {
    "name": "ipython",
    "version": 3
   },
   "file_extension": ".py",
   "mimetype": "text/x-python",
   "name": "python",
   "nbconvert_exporter": "python",
   "pygments_lexer": "ipython3",
   "version": "3.7.4"
  }
 },
 "nbformat": 4,
 "nbformat_minor": 2
}
