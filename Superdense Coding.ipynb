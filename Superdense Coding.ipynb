{
 "cells": [
  {
   "cell_type": "markdown",
   "metadata": {},
   "source": [
    "Here we will demonstrate the utility of quantum information through Superdense Coding. Superdense coding is a quantum communication protocol to transmit two classical bits of information from a sender (who will be named Alice) to a receiver (who will be named Bob). The novelty of superdense coding is that Alice will only need to send a single qubit!! The catch is that Alice and Bob will need to pre-share an entangled state. We will create a third party, named Charlie, who is responsible for the creation and sharing of the entangled state.\n",
    "\n",
    "I am attepting to follow the conventions of Nielsen and Chuang on page 97. You can find free info at https://en.wikipedia.org/wiki/Superdense_coding\n",
    "\n",
    "I will assume that the reader is familiar with the Pauli matrices, the Hadamard gate, and the CNOT gate."
   ]
  },
  {
   "cell_type": "code",
   "execution_count": 1,
   "metadata": {},
   "outputs": [],
   "source": [
    "import numpy as np\n",
    "\n",
    "# First we should define the gates we will need as numpy arrays. I have chosen the computational basis.\n",
    "\n",
    "# Single qubit gates\n",
    "X = np.array([[0,1],[1,0]])\n",
    "Y = np.array([[0,-1j],[1j,0]])\n",
    "Z = np.array([[1,0],[0,-1]])\n",
    "I = np.eye(2)\n",
    "H = np.array([[1,1],[1,-1]])/np.sqrt(2)\n",
    "\n",
    "# Double qubit gates\n",
    "CNOT = np.array([\n",
    "    [1,0,0,0],\n",
    "    [0,0,0,1],\n",
    "    [0,0,1,0],\n",
    "    [0,1,0,0]]) # Note that this is the matrix representation when the right most qubit is the control."
   ]
  },
  {
   "cell_type": "markdown",
   "metadata": {},
   "source": [
    "$$\\newcommand{\\ket}[1]{\\left|{#1}\\right\\rangle}$$\n",
    "$$\\newcommand{\\bra}[1]{\\left\\langle{#1}\\right|}$$\n",
    "\n",
    "We will use the common convention that \n",
    "$\\ket{0} = \\begin{bmatrix}\n",
    "1 \\\\\n",
    "0 \\end{bmatrix}$\n",
    "and\n",
    "$\\ket{1} = \\begin{bmatrix}\n",
    "0 \\\\\n",
    "1 \\end{bmatrix}$"
   ]
  },
  {
   "cell_type": "code",
   "execution_count": 2,
   "metadata": {},
   "outputs": [],
   "source": [
    "# Define our single qubit states\n",
    "bra0 = np.array([1,0])\n",
    "bra1 = np.array([0,1])"
   ]
  },
  {
   "cell_type": "markdown",
   "metadata": {},
   "source": [
    "Now we turn it over to Charlie to prepare our entangled state."
   ]
  },
  {
   "cell_type": "code",
   "execution_count": 3,
   "metadata": {},
   "outputs": [],
   "source": [
    "# Charlie starts with both qubits in the state |00>\n",
    "psi = np.kron(bra0,bra0)\n",
    "\n",
    "# Then Charlie applies a Hadamard gate to the rightmost qubit (control)\n",
    "psi = np.kron(I,H)@psi\n",
    "\n",
    "# To finish entangling the states, Charlie applies a CNOT gate\n",
    "psi = CNOT @ psi\n",
    "\n",
    "# Now Charlie gives the left qubit to Bob and the right qubit to Alice\n",
    "\n"
   ]
  },
  {
   "cell_type": "code",
   "execution_count": 4,
   "metadata": {},
   "outputs": [],
   "source": [
    "# Alice sends her message\n",
    "\n",
    "psi = np.kron(I,Z) @ psi\n",
    "\n"
   ]
  },
  {
   "cell_type": "code",
   "execution_count": 5,
   "metadata": {},
   "outputs": [],
   "source": [
    "# Bob decodes the message\n",
    "psi = CNOT @ psi\n",
    "psi = np.kron(I,H)@psi"
   ]
  },
  {
   "cell_type": "code",
   "execution_count": 6,
   "metadata": {},
   "outputs": [
    {
     "data": {
      "text/plain": [
       "array([0., 1., 0., 0.])"
      ]
     },
     "execution_count": 6,
     "metadata": {},
     "output_type": "execute_result"
    }
   ],
   "source": [
    "psi"
   ]
  },
  {
   "cell_type": "code",
   "execution_count": null,
   "metadata": {},
   "outputs": [],
   "source": []
  },
  {
   "cell_type": "markdown",
   "metadata": {},
   "source": []
  },
  {
   "cell_type": "code",
   "execution_count": null,
   "metadata": {},
   "outputs": [],
   "source": []
  }
 ],
 "metadata": {
  "kernelspec": {
   "display_name": "Python 3",
   "language": "python",
   "name": "python3"
  },
  "language_info": {
   "codemirror_mode": {
    "name": "ipython",
    "version": 3
   },
   "file_extension": ".py",
   "mimetype": "text/x-python",
   "name": "python",
   "nbconvert_exporter": "python",
   "pygments_lexer": "ipython3",
   "version": "3.7.4"
  }
 },
 "nbformat": 4,
 "nbformat_minor": 2
}
