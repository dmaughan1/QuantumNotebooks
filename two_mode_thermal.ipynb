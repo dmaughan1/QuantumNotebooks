{
 "cells": [
  {
   "cell_type": "code",
   "execution_count": 1,
   "id": "c766f364",
   "metadata": {},
   "outputs": [],
   "source": [
    "import numpy as np\n",
    "import strawberryfields as sf\n",
    "import strawberryfields.ops as ops\n",
    "\n",
    "\n",
    "# Reproduce 2a, eqn 7"
   ]
  },
  {
   "cell_type": "code",
   "execution_count": 2,
   "id": "a1e23091",
   "metadata": {},
   "outputs": [],
   "source": [
    "nbar = 1 # mean photon number\n",
    "v = 2*nbar+1 # v=2, .5 mean photon\n",
    "#ν := 2n̄ + 1\n",
    "tmsv_cov = np.array([\n",
    "    [v,np.sqrt(v**2-1),0,0],\n",
    "    [np.sqrt(v**2-1),v,0,0],\n",
    "    [0,0,v,-np.sqrt(v**2-1)],\n",
    "    [0,0,-np.sqrt(v**2-1),v],\n",
    "])"
   ]
  },
  {
   "cell_type": "code",
   "execution_count": 3,
   "id": "23df6cc9",
   "metadata": {},
   "outputs": [],
   "source": [
    "# https://strawberryfields.readthedocs.io/en/stable/code/api/strawberryfields.ops.BSgate.html\n",
    "transmitivity = .52\n",
    "theta = np.arccos(np.sqrt(transmitivity)) # transmission amplitude\n",
    "phi = 0#np.pi # phase angle; np.pi/2 is the symmetric beam splitter"
   ]
  },
  {
   "cell_type": "code",
   "execution_count": 4,
   "id": "dfea94e5",
   "metadata": {},
   "outputs": [
    {
     "name": "stdout",
     "output_type": "stream",
     "text": [
      "10 0.9979810822324744 -2.4054485861287995\n"
     ]
    }
   ],
   "source": [
    "# params for state preparations\n",
    "\n",
    "t_nbar = 10#np.random.uniform(0,12)\n",
    "d_r = np.random.uniform(-1,1)\n",
    "d_phi = np.random.uniform(-np.pi,np.pi)\n",
    "s_r = np.random.uniform(-1,1)\n",
    "s_phi = np.random.uniform(-1,1)\n",
    "\n",
    "print(t_nbar,d_r,d_phi)"
   ]
  },
  {
   "cell_type": "code",
   "execution_count": 5,
   "id": "ba205ad3",
   "metadata": {},
   "outputs": [],
   "source": [
    "exp = sf.Program(6) # 1 for the mode goinging through the channel, 2 for the explicit environment\n",
    "\n",
    "with exp.context as q:\n",
    "    # q[2] and q[5] is the mode going through our custom thermal loss channel\n",
    "    \n",
    "    # Prepare q[2] and q[5] in some state\n",
    "    ops.Thermal(t_nbar) | q[2]\n",
    "    ops.Thermal(t_nbar) | q[5]\n",
    "    ops.Dgate(d_r,d_phi) | q[2]\n",
    "    ops.Sgate(s_r,s_phi) | q[2]\n",
    "    \n",
    "    # Prepare the environment\n",
    "    ops.Gaussian(tmsv_cov,np.zeros(4)) | [q[0],q[1]] # prepares a gaussian state\n",
    "    ops.Gaussian(tmsv_cov,np.zeros(4)) | [q[3],q[4]] # prepares a gaussian state\n",
    "\n",
    "    # Pass 0 and 3 through the channel\n",
    "    ops.BSgate(theta, phi) | (q[1], q[2]) # applies BS\n",
    "    ops.BSgate(theta, phi) | (q[4], q[5]) # applies BS\n",
    "    \n",
    "    # We will compare our results against the built in Thermal loss channel\n",
    "    #ops.ThermalLossChannel(transmitivity,nbar) | q[2]\n",
    "    #ops.ThermalLossChannel(transmitivity,nbar) | q[5]"
   ]
  },
  {
   "cell_type": "code",
   "execution_count": 6,
   "id": "7c434479",
   "metadata": {},
   "outputs": [
    {
     "name": "stderr",
     "output_type": "stream",
     "text": [
      "/home/dave/Projects/SF/lib/python3.8/site-packages/strawberryfields/program.py:560: UserWarning: The circuit consists of 2 disconnected components.\n"
     ]
    }
   ],
   "source": [
    "eng = sf.Engine(backend=\"gaussian\")\n",
    "#eng = sf.Engine(backend=\"tf\", backend_options={\"cutoff_dim\": 10})\n",
    "\n",
    "custom_results = eng.run(exp)"
   ]
  },
  {
   "cell_type": "code",
   "execution_count": 7,
   "id": "70836806",
   "metadata": {},
   "outputs": [],
   "source": [
    "exp = sf.Program(2) # we just need one mode since we don't have an explicit environment\n",
    "\n",
    "with exp.context as q:\n",
    "    # q[0] is the mode going through the builtin  thermal loss channel\n",
    "    \n",
    "    # Prepare q[2] in some state\n",
    "    ops.Thermal(t_nbar)| q[0]\n",
    "    ops.Thermal(t_nbar)| q[1]\n",
    "    #ops.Dgate(d_r,d_phi) | q[0]\n",
    "    #ops.Sgate(s_r,s_phi) | q[0]\n",
    "\n",
    "    # We will compare our results against the built in Thermal loss channel\n",
    "    ops.ThermalLossChannel(transmitivity,nbar) | q[0]\n",
    "    #ops.ThermalLossChannel(transmitivity,nbar) | q[1]"
   ]
  },
  {
   "cell_type": "code",
   "execution_count": 8,
   "id": "b5852274",
   "metadata": {},
   "outputs": [],
   "source": [
    "eng = sf.Engine(backend=\"gaussian\")\n",
    "#eng = sf.Engine(backend=\"tf\", backend_options={\"cutoff_dim\": 10})\n",
    "\n",
    "builtin_results = eng.run(exp)"
   ]
  },
  {
   "cell_type": "code",
   "execution_count": 9,
   "id": "307afd9c",
   "metadata": {},
   "outputs": [],
   "source": [
    "def build_symplectic(cov,xxpp=True):\n",
    "    if xxpp==False:\n",
    "        w = np.array([[0,1],[-1,0]])\n",
    "        arr = np.zeros_like(cov)\n",
    "        for ii in range(0,len(cov),2):\n",
    "            arr[ii:ii+2,ii:ii+2] = w\n",
    "\n",
    "    if xxpp == True:\n",
    "        num_modes = len(cov)//2\n",
    "        arr = np.zeros_like(cov)\n",
    "        arr[num_modes:,0:num_modes] = -np.eye(num_modes)\n",
    "        arr[:num_modes,num_modes:] = np.eye(num_modes)\n",
    "    \n",
    "    return arr\n",
    "\n",
    "def g(x,tol=1e-5):\n",
    "    if x < 1 - tol:\n",
    "        print('invalid eigenvalue')\n",
    "        return None\n",
    "    elif x < 1 + tol:\n",
    "        return 0\n",
    "    else:\n",
    "        return (x+1)/2*np.log2((x+1)/2) - (x-1)/2*np.log2((x-1)/2)\n",
    "\n",
    "def calculate_entropy(cov):\n",
    "    omega = build_symplectic(cov)\n",
    "    #print(omega)\n",
    "    V = 1j*omega@cov # This is actually the version of V you use to get the eigenvals, not the diagonalized one\n",
    "    eig = np.linalg.eigvals(V)\n",
    "    entropy = 0\n",
    "    for ii in range(len(eig)):\n",
    "        entropy += g(abs(eig[ii]))\n",
    "    return entropy/2 # Divide by two because you want the symplectic eigenvalues"
   ]
  },
  {
   "cell_type": "code",
   "execution_count": 10,
   "id": "41ac8518",
   "metadata": {},
   "outputs": [],
   "source": [
    "def extract_state_cov(cov,state_num):\n",
    "    num_modes = len(cov)//2\n",
    "    new_cov = np.zeros((2,2))\n",
    "    new_cov[0,0] = cov[state_num,state_num]\n",
    "    new_cov[1,1] = cov[state_num+num_modes,state_num+num_modes]\n",
    "    new_cov[1,0] = cov[state_num+num_modes,state_num]\n",
    "    new_cov[0,1] = cov[state_num,state_num+num_modes]\n",
    "    return new_cov\n",
    "\n",
    "def extract_state_means(means,state_num):\n",
    "    num_modes = len(means)//2\n",
    "    new_means = np.zeros(2)\n",
    "    new_means[0] = means[state_num]\n",
    "    new_means[1] = means[state_num+num_modes]\n",
    "    return new_means\n",
    "\n",
    "def extract_states_cov(cov,state_list):\n",
    "    num_modes = len(cov)//2\n",
    "    subset = state_list + [num_modes+mode for mode in state_list]\n",
    "    return cov[np.ix_(subset,subset)]\n",
    "\n",
    "def extract_states_means(means,state_list):\n",
    "    num_modes = len(means)//2\n",
    "    subset = state_list + [num_modes+mode for mode in state_list]\n",
    "    return means[subset]"
   ]
  },
  {
   "cell_type": "code",
   "execution_count": 11,
   "id": "6ee9c8e3",
   "metadata": {},
   "outputs": [],
   "source": [
    "#custom_results.state.cov()"
   ]
  },
  {
   "cell_type": "code",
   "execution_count": 12,
   "id": "d8dfbae9",
   "metadata": {},
   "outputs": [
    {
     "name": "stdout",
     "output_type": "stream",
     "text": [
      "[[ 2.97092965e+01  0.00000000e+00 -1.35012840e+01  0.00000000e+00]\n",
      " [ 0.00000000e+00  1.23600000e+01  0.00000000e+00 -9.93339595e-17]\n",
      " [-1.35012840e+01  0.00000000e+00  1.21063804e+01  0.00000000e+00]\n",
      " [ 0.00000000e+00 -9.93339595e-17  0.00000000e+00  1.23600000e+01]]\n",
      "[0. 0. 0. 0.]\n",
      "-3.351986198346836\n",
      "8.245441844969612 11.597428043316448\n"
     ]
    }
   ],
   "source": [
    "print(extract_states_cov(custom_results.state.cov(),[2,5]))\n",
    "print(extract_states_means(custom_results.state.means(),[0,3]))\n",
    "rho_cov = extract_states_cov(custom_results.state.cov(),[2,5])\n",
    "env_cov = extract_states_cov(custom_results.state.cov(),[0,1,3,4])\n",
    "print(calculate_entropy(rho_cov) - calculate_entropy(env_cov))\n",
    "print(calculate_entropy(rho_cov),calculate_entropy(env_cov))"
   ]
  },
  {
   "cell_type": "code",
   "execution_count": 13,
   "id": "252f31b2",
   "metadata": {},
   "outputs": [
    {
     "name": "stdout",
     "output_type": "stream",
     "text": [
      "[[12.36  0.96  0.    0.  ]\n",
      " [ 0.96 21.96  0.    0.  ]\n",
      " [ 0.    0.   12.36  0.96]\n",
      " [ 0.    0.    0.96 21.96]]\n",
      "[0. 0. 0. 0.]\n"
     ]
    },
    {
     "data": {
      "text/plain": [
       "8.962799952387353"
      ]
     },
     "execution_count": 13,
     "metadata": {},
     "output_type": "execute_result"
    }
   ],
   "source": [
    "print(builtin_results.state.cov())\n",
    "print(builtin_results.state.means())\n",
    "calculate_entropy(builtin_results.state.cov())"
   ]
  }
 ],
 "metadata": {
  "kernelspec": {
   "display_name": "Python 3",
   "language": "python",
   "name": "python3"
  },
  "language_info": {
   "codemirror_mode": {
    "name": "ipython",
    "version": 3
   },
   "file_extension": ".py",
   "mimetype": "text/x-python",
   "name": "python",
   "nbconvert_exporter": "python",
   "pygments_lexer": "ipython3",
   "version": "3.8.5"
  }
 },
 "nbformat": 4,
 "nbformat_minor": 5
}
